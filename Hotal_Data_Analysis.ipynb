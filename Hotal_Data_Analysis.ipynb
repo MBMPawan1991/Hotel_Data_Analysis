{
 "cells": [
  {
   "cell_type": "code",
   "execution_count": 95,
   "id": "c72fcaee-12c5-49d1-842f-e557c0647419",
   "metadata": {},
   "outputs": [],
   "source": [
    "import numpy as np\n",
    "import pandas as pd\n",
    "import matplotlib.pyplot as plt\n",
    "import seaborn as sns\n",
    "import string\n",
    "import re\n",
    "import nltk\n",
    "from collections import Counter\n",
    "from sklearn.feature_extraction.text import CountVectorizer\n",
    "from nltk.corpus import stopwords\n",
    "\n"
   ]
  },
  {
   "cell_type": "markdown",
   "id": "e1868562-1f39-40b9-81c7-49a48439ee9d",
   "metadata": {},
   "source": [
    "Read CSV file"
   ]
  },
  {
   "cell_type": "code",
   "execution_count": 96,
   "id": "0cfd033b-5968-4eb6-bcee-b8efcb36f100",
   "metadata": {},
   "outputs": [],
   "source": [
    "df=pd.read_csv(\"/Users/pawanpanchal/Downloads/Test_data - Sheet1.csv\")"
   ]
  },
  {
   "cell_type": "code",
   "execution_count": 97,
   "id": "850d0035-bb75-4a2f-b88a-08093d8fc6c8",
   "metadata": {},
   "outputs": [
    {
     "data": {
      "text/html": [
       "<div>\n",
       "<style scoped>\n",
       "    .dataframe tbody tr th:only-of-type {\n",
       "        vertical-align: middle;\n",
       "    }\n",
       "\n",
       "    .dataframe tbody tr th {\n",
       "        vertical-align: top;\n",
       "    }\n",
       "\n",
       "    .dataframe thead th {\n",
       "        text-align: right;\n",
       "    }\n",
       "</style>\n",
       "<table border=\"1\" class=\"dataframe\">\n",
       "  <thead>\n",
       "    <tr style=\"text-align: right;\">\n",
       "      <th></th>\n",
       "      <th>Review</th>\n",
       "      <th>date</th>\n",
       "      <th>Location</th>\n",
       "    </tr>\n",
       "  </thead>\n",
       "  <tbody>\n",
       "    <tr>\n",
       "      <th>0</th>\n",
       "      <td>I was very impressed with the resort.\\n  Great...</td>\n",
       "      <td>2019-08-20</td>\n",
       "      <td>Sebastian</td>\n",
       "    </tr>\n",
       "    <tr>\n",
       "      <th>1</th>\n",
       "      <td>The rooms were nice the outside needs work als...</td>\n",
       "      <td>2019-08-20</td>\n",
       "      <td>Los Angeles</td>\n",
       "    </tr>\n",
       "    <tr>\n",
       "      <th>2</th>\n",
       "      <td>Great location! I have stayed at this hotel on...</td>\n",
       "      <td>2019-08-20</td>\n",
       "      <td>Georgia</td>\n",
       "    </tr>\n",
       "    <tr>\n",
       "      <th>3</th>\n",
       "      <td>The hotel was adequate for my stay. The strips...</td>\n",
       "      <td>2019-08-20</td>\n",
       "      <td>NaN</td>\n",
       "    </tr>\n",
       "    <tr>\n",
       "      <th>4</th>\n",
       "      <td>Great location, room was large and spacious. P...</td>\n",
       "      <td>2019-08-19</td>\n",
       "      <td>Palm Harbor</td>\n",
       "    </tr>\n",
       "  </tbody>\n",
       "</table>\n",
       "</div>"
      ],
      "text/plain": [
       "                                              Review        date     Location\n",
       "0  I was very impressed with the resort.\\n  Great...  2019-08-20    Sebastian\n",
       "1  The rooms were nice the outside needs work als...  2019-08-20  Los Angeles\n",
       "2  Great location! I have stayed at this hotel on...  2019-08-20      Georgia\n",
       "3  The hotel was adequate for my stay. The strips...  2019-08-20          NaN\n",
       "4  Great location, room was large and spacious. P...  2019-08-19  Palm Harbor"
      ]
     },
     "execution_count": 97,
     "metadata": {},
     "output_type": "execute_result"
    }
   ],
   "source": [
    "df.head()"
   ]
  },
  {
   "cell_type": "markdown",
   "id": "fcdd478f-5245-45ae-a411-67003d1630fd",
   "metadata": {},
   "source": [
    "Check Datatype of column"
   ]
  },
  {
   "cell_type": "code",
   "execution_count": 98,
   "id": "5c6b0baf-6397-4ff2-a68a-e28eac03792b",
   "metadata": {},
   "outputs": [
    {
     "name": "stdout",
     "output_type": "stream",
     "text": [
      "<class 'pandas.core.frame.DataFrame'>\n",
      "RangeIndex: 6448 entries, 0 to 6447\n",
      "Data columns (total 3 columns):\n",
      " #   Column    Non-Null Count  Dtype \n",
      "---  ------    --------------  ----- \n",
      " 0   Review    6393 non-null   object\n",
      " 1   date      6448 non-null   object\n",
      " 2   Location  1711 non-null   object\n",
      "dtypes: object(3)\n",
      "memory usage: 151.3+ KB\n"
     ]
    }
   ],
   "source": [
    "df.info()"
   ]
  },
  {
   "cell_type": "markdown",
   "id": "500d216a-fd5a-4fbc-aa0e-54964b714593",
   "metadata": {},
   "source": [
    "Stats of dataset"
   ]
  },
  {
   "cell_type": "code",
   "execution_count": 99,
   "id": "4536fb75-2b6a-4c18-b776-6fe7fdc07804",
   "metadata": {},
   "outputs": [
    {
     "data": {
      "text/html": [
       "<div>\n",
       "<style scoped>\n",
       "    .dataframe tbody tr th:only-of-type {\n",
       "        vertical-align: middle;\n",
       "    }\n",
       "\n",
       "    .dataframe tbody tr th {\n",
       "        vertical-align: top;\n",
       "    }\n",
       "\n",
       "    .dataframe thead th {\n",
       "        text-align: right;\n",
       "    }\n",
       "</style>\n",
       "<table border=\"1\" class=\"dataframe\">\n",
       "  <thead>\n",
       "    <tr style=\"text-align: right;\">\n",
       "      <th></th>\n",
       "      <th>Review</th>\n",
       "      <th>date</th>\n",
       "      <th>Location</th>\n",
       "    </tr>\n",
       "  </thead>\n",
       "  <tbody>\n",
       "    <tr>\n",
       "      <th>count</th>\n",
       "      <td>6393</td>\n",
       "      <td>6448</td>\n",
       "      <td>1711</td>\n",
       "    </tr>\n",
       "    <tr>\n",
       "      <th>unique</th>\n",
       "      <td>6383</td>\n",
       "      <td>397</td>\n",
       "      <td>1082</td>\n",
       "    </tr>\n",
       "    <tr>\n",
       "      <th>top</th>\n",
       "      <td>Amazing\\n  \\n  Read more\\n  Read less</td>\n",
       "      <td>Jun-19</td>\n",
       "      <td>United States of America</td>\n",
       "    </tr>\n",
       "    <tr>\n",
       "      <th>freq</th>\n",
       "      <td>4</td>\n",
       "      <td>145</td>\n",
       "      <td>116</td>\n",
       "    </tr>\n",
       "  </tbody>\n",
       "</table>\n",
       "</div>"
      ],
      "text/plain": [
       "                                       Review    date  \\\n",
       "count                                    6393    6448   \n",
       "unique                                   6383     397   \n",
       "top     Amazing\\n  \\n  Read more\\n  Read less  Jun-19   \n",
       "freq                                        4     145   \n",
       "\n",
       "                        Location  \n",
       "count                       1711  \n",
       "unique                      1082  \n",
       "top     United States of America  \n",
       "freq                         116  "
      ]
     },
     "execution_count": 99,
     "metadata": {},
     "output_type": "execute_result"
    }
   ],
   "source": [
    "df.describe()"
   ]
  },
  {
   "cell_type": "markdown",
   "id": "acfc3d76-30cc-471f-995b-27d5c0cf5425",
   "metadata": {},
   "source": [
    "Data Cleaning"
   ]
  },
  {
   "cell_type": "code",
   "execution_count": 100,
   "id": "0368aa0b-fe56-43c6-9286-a58fd49ff11a",
   "metadata": {},
   "outputs": [
    {
     "data": {
      "text/plain": [
       "Review        55\n",
       "date           0\n",
       "Location    4737\n",
       "dtype: int64"
      ]
     },
     "execution_count": 100,
     "metadata": {},
     "output_type": "execute_result"
    }
   ],
   "source": [
    "# Check null values\n",
    "\n",
    "df.isnull().sum()"
   ]
  },
  {
   "cell_type": "markdown",
   "id": "50fa99e5-6a12-4bb9-8664-98bc2b1f45af",
   "metadata": {},
   "source": [
    "Handelling Null values"
   ]
  },
  {
   "cell_type": "code",
   "execution_count": 101,
   "id": "c2f44059-3112-4c26-a070-db28b337bb0f",
   "metadata": {},
   "outputs": [],
   "source": [
    "# Replace null values in location column\n",
    "\n",
    "df['Location'].fillna('United States of America', inplace=True)"
   ]
  },
  {
   "cell_type": "code",
   "execution_count": 102,
   "id": "5105505e-b3a9-48ad-89d9-188d5c393348",
   "metadata": {},
   "outputs": [],
   "source": [
    "# Remove null values from Review column\n",
    "\n",
    "df=df[df[\"Review\"].notnull()]"
   ]
  },
  {
   "cell_type": "code",
   "execution_count": 103,
   "id": "ad4dfb56-08be-4c56-b10f-7d434b404557",
   "metadata": {},
   "outputs": [
    {
     "data": {
      "text/plain": [
       "Review      0\n",
       "date        0\n",
       "Location    0\n",
       "dtype: int64"
      ]
     },
     "execution_count": 103,
     "metadata": {},
     "output_type": "execute_result"
    }
   ],
   "source": [
    "df.isnull().sum()   "
   ]
  },
  {
   "cell_type": "markdown",
   "id": "e22466b0-8fbc-43f2-bc9f-b1f64e7850b6",
   "metadata": {},
   "source": [
    "-----------------------------------------------------------------------------------------"
   ]
  },
  {
   "cell_type": "markdown",
   "id": "ec717cc8-76e1-4b4d-8681-ad2f97f89487",
   "metadata": {},
   "source": [
    "Remove unwanted char/words/sign from Review column"
   ]
  },
  {
   "cell_type": "code",
   "execution_count": 104,
   "id": "2c391a0c-a407-4f68-a60d-0bd02a31011a",
   "metadata": {},
   "outputs": [],
   "source": [
    "def clean(review):\n",
    "    \n",
    "    review = review.lower()\n",
    "    review = re.sub('[^a-z A-Z 0-9-]+', '', review)\n",
    "    review = \" \".join([word for word in review.split() if word not in stopwords.words('english')])\n",
    "    \n",
    "    return review"
   ]
  },
  {
   "cell_type": "code",
   "execution_count": 105,
   "id": "36f66011-ebb1-4dc6-905b-4215bd9a70de",
   "metadata": {},
   "outputs": [],
   "source": [
    "df['Review'] = df['Review'].apply(clean)"
   ]
  },
  {
   "cell_type": "code",
   "execution_count": 106,
   "id": "1588e9c8-85bd-4517-8b77-b29eef449042",
   "metadata": {},
   "outputs": [
    {
     "data": {
      "text/plain": [
       "'impressed resort great staff main resort pool bar blast clean professional staff great location reasonable read read less'"
      ]
     },
     "execution_count": 106,
     "metadata": {},
     "output_type": "execute_result"
    }
   ],
   "source": [
    "df['Review'][0]"
   ]
  },
  {
   "cell_type": "code",
   "execution_count": 107,
   "id": "e14096ec-b644-4ad8-8a7f-67ecb7c888fa",
   "metadata": {},
   "outputs": [],
   "source": [
    "# Remove \"read\" & \"less\" from reviews\n",
    "\n",
    "df['Review'] = df['Review'].apply(lambda x: ' '.join([word for word in x.split() if word.lower() != 'read']))"
   ]
  },
  {
   "cell_type": "code",
   "execution_count": 108,
   "id": "8264cda6-8d2e-4c6b-a1f7-7c34790a8f2c",
   "metadata": {},
   "outputs": [],
   "source": [
    "df['Review'] = df['Review'].apply(lambda x: ' '.join([word for word in x.split() if word.lower() != 'less']))"
   ]
  },
  {
   "cell_type": "code",
   "execution_count": 109,
   "id": "162ff221-4b09-4ccb-a87e-71cc7de972a7",
   "metadata": {},
   "outputs": [
    {
     "data": {
      "text/plain": [
       "'impressed resort great staff main resort pool bar blast clean professional staff great location reasonable'"
      ]
     },
     "execution_count": 109,
     "metadata": {},
     "output_type": "execute_result"
    }
   ],
   "source": [
    "df['Review'][0]"
   ]
  },
  {
   "cell_type": "markdown",
   "id": "2d38da37-1a4b-4741-9bfb-ad23c80c613c",
   "metadata": {},
   "source": [
    "----------------------------------------------------------------------------------------"
   ]
  },
  {
   "cell_type": "markdown",
   "id": "defac7be-5f29-43eb-864d-f2b7c6ea142d",
   "metadata": {},
   "source": [
    "Top 10 most frequently occuring words"
   ]
  },
  {
   "cell_type": "code",
   "execution_count": 110,
   "id": "ded28395-6c3a-4d74-8543-414368f9c6cf",
   "metadata": {},
   "outputs": [],
   "source": [
    "mostCommon = Counter(corpus).most_common(10)"
   ]
  },
  {
   "cell_type": "code",
   "execution_count": 111,
   "id": "c294f51b-e1b4-4fd3-be6e-a08a7c4be3bc",
   "metadata": {},
   "outputs": [],
   "source": [
    "words = []\n",
    "freq = []\n",
    "for word, count in mostCommon:\n",
    "    words.append(word)\n",
    "    freq.append(count)"
   ]
  },
  {
   "cell_type": "code",
   "execution_count": 112,
   "id": "085f6c6d-640d-4326-845e-d44f49b6c0fe",
   "metadata": {},
   "outputs": [
    {
     "name": "stderr",
     "output_type": "stream",
     "text": [
      "/opt/anaconda3/lib/python3.11/site-packages/seaborn/_oldcore.py:1765: FutureWarning: unique with argument that is not not a Series, Index, ExtensionArray, or np.ndarray is deprecated and will raise in a future version.\n",
      "  order = pd.unique(vector)\n"
     ]
    },
    {
     "data": {
      "image/png": "[encoded data removed]",
      "text/plain": [
       "<Figure size 640x480 with 1 Axes>"
      ]
     },
     "metadata": {},
     "output_type": "display_data"
    }
   ],
   "source": [
    "sns.barplot(x=freq, y=words)\n",
    "plt.title('Top 10 Most Frequently Occuring Words')\n",
    "plt.show()"
   ]
  },
  {
   "cell_type": "code",
   "execution_count": 113,
   "id": "8b78688f-6e24-4571-9665-241d65e131e7",
   "metadata": {},
   "outputs": [],
   "source": [
    "cv = CountVectorizer(ngram_range=(2,2))\n",
    "bigrams = cv.fit_transform(df['Review'])"
   ]
  },
  {
   "cell_type": "code",
   "execution_count": 114,
   "id": "dbb69f7b-dce1-4d4b-b8e1-6d5d3ed4921b",
   "metadata": {},
   "outputs": [],
   "source": [
    "count_values = bigrams.toarray().sum(axis=0)\n",
    "ngram_freq = pd.DataFrame(sorted([(count_values[i], k) for k, i in cv.vocabulary_.items()], reverse = True))\n",
    "ngram_freq.columns = [\"frequency\", \"ngram\"]"
   ]
  },
  {
   "cell_type": "code",
   "execution_count": 115,
   "id": "29f08709-8946-4a7e-a4ee-1a26f83bc6dd",
   "metadata": {},
   "outputs": [
    {
     "data": {
      "image/png": "[encoded data removed]",
      "text/plain": [
       "<Figure size 640x480 with 1 Axes>"
      ]
     },
     "metadata": {},
     "output_type": "display_data"
    }
   ],
   "source": [
    "sns.barplot(x=ngram_freq['frequency'][:10], y=ngram_freq['ngram'][:10])\n",
    "plt.title('Top 10 Most Frequently Occuring Bigrams')\n",
    "plt.show()"
   ]
  },
  {
   "cell_type": "code",
   "execution_count": 116,
   "id": "3fc54928-2fc5-47a1-a0d9-7f6ecd0293ce",
   "metadata": {},
   "outputs": [],
   "source": [
    "cv1 = CountVectorizer(ngram_range=(3,3))\n",
    "trigrams = cv1.fit_transform(df['Review'])\n",
    "count_values = trigrams.toarray().sum(axis=0)\n",
    "ngram_freq = pd.DataFrame(sorted([(count_values[i], k) for k, i in cv1.vocabulary_.items()], reverse = True))\n",
    "ngram_freq.columns = [\"frequency\", \"ngram\"]"
   ]
  },
  {
   "cell_type": "code",
   "execution_count": 117,
   "id": "c8183238-c1b6-4791-870d-fb7d5a292b50",
   "metadata": {},
   "outputs": [
    {
     "data": {
      "image/png": "[encoded data removed]",
      "text/plain": [
       "<Figure size 640x480 with 1 Axes>"
      ]
     },
     "metadata": {},
     "output_type": "display_data"
    }
   ],
   "source": [
    "sns.barplot(x=ngram_freq['frequency'][:10], y=ngram_freq['ngram'][:10])\n",
    "plt.title('Top 10 Most Frequently Occuring Trigrams')\n",
    "plt.show()"
   ]
  },
  {
   "cell_type": "markdown",
   "id": "153f12e9-8bfb-452e-9b01-202b43cd5c3e",
   "metadata": {},
   "source": [
    "-----------------------------------------------------------------------------------------"
   ]
  },
  {
   "cell_type": "markdown",
   "id": "af3509a6-7500-4315-ab2c-05007482f868",
   "metadata": {},
   "source": [
    "                                 Location Summery"
   ]
  },
  {
   "cell_type": "code",
   "execution_count": 118,
   "id": "3f0ba104-1340-4694-8d9a-ceab44cc8ad9",
   "metadata": {},
   "outputs": [],
   "source": [
    "location_summary = df.groupby('Location').agg(\n",
    "    Total_Reviews=('Review', 'count'),\n",
    "    \n",
    ").reset_index()\n",
    "\n",
    "location_summary = location_summary.sort_values(by='Total_Reviews', ascending=False)"
   ]
  },
  {
   "cell_type": "code",
   "execution_count": 119,
   "id": "abceb545-2405-4084-ad13-77563d9add15",
   "metadata": {},
   "outputs": [
    {
     "data": {
      "text/html": [
       "<div>\n",
       "<style scoped>\n",
       "    .dataframe tbody tr th:only-of-type {\n",
       "        vertical-align: middle;\n",
       "    }\n",
       "\n",
       "    .dataframe tbody tr th {\n",
       "        vertical-align: top;\n",
       "    }\n",
       "\n",
       "    .dataframe thead th {\n",
       "        text-align: right;\n",
       "    }\n",
       "</style>\n",
       "<table border=\"1\" class=\"dataframe\">\n",
       "  <thead>\n",
       "    <tr style=\"text-align: right;\">\n",
       "      <th></th>\n",
       "      <th>Location</th>\n",
       "      <th>Total_Reviews</th>\n",
       "    </tr>\n",
       "  </thead>\n",
       "  <tbody>\n",
       "    <tr>\n",
       "      <th>929</th>\n",
       "      <td>United States of America</td>\n",
       "      <td>4804</td>\n",
       "    </tr>\n",
       "    <tr>\n",
       "      <th>564</th>\n",
       "      <td>New York</td>\n",
       "      <td>34</td>\n",
       "    </tr>\n",
       "    <tr>\n",
       "      <th>122</th>\n",
       "      <td>California</td>\n",
       "      <td>19</td>\n",
       "    </tr>\n",
       "    <tr>\n",
       "      <th>769</th>\n",
       "      <td>San Jose</td>\n",
       "      <td>19</td>\n",
       "    </tr>\n",
       "    <tr>\n",
       "      <th>244</th>\n",
       "      <td>Florida</td>\n",
       "      <td>16</td>\n",
       "    </tr>\n",
       "    <tr>\n",
       "      <th>125</th>\n",
       "      <td>Canada</td>\n",
       "      <td>16</td>\n",
       "    </tr>\n",
       "    <tr>\n",
       "      <th>928</th>\n",
       "      <td>United Kingdom</td>\n",
       "      <td>14</td>\n",
       "    </tr>\n",
       "    <tr>\n",
       "      <th>567</th>\n",
       "      <td>New York, NY</td>\n",
       "      <td>13</td>\n",
       "    </tr>\n",
       "    <tr>\n",
       "      <th>902</th>\n",
       "      <td>Toronto</td>\n",
       "      <td>12</td>\n",
       "    </tr>\n",
       "    <tr>\n",
       "      <th>488</th>\n",
       "      <td>Miami</td>\n",
       "      <td>12</td>\n",
       "    </tr>\n",
       "  </tbody>\n",
       "</table>\n",
       "</div>"
      ],
      "text/plain": [
       "                     Location  Total_Reviews\n",
       "929  United States of America           4804\n",
       "564                  New York             34\n",
       "122                California             19\n",
       "769                  San Jose             19\n",
       "244                   Florida             16\n",
       "125                    Canada             16\n",
       "928            United Kingdom             14\n",
       "567              New York, NY             13\n",
       "902                   Toronto             12\n",
       "488                     Miami             12"
      ]
     },
     "execution_count": 119,
     "metadata": {},
     "output_type": "execute_result"
    }
   ],
   "source": [
    "location_summary.head(10)"
   ]
  },
  {
   "cell_type": "code",
   "execution_count": null,
   "id": "01d86af1-6b9b-4a1f-b761-2923e561ed36",
   "metadata": {},
   "outputs": [],
   "source": []
  },
  {
   "cell_type": "code",
   "execution_count": null,
   "id": "0c2b4c88-fa64-4e8d-b786-9aa17dbd8240",
   "metadata": {},
   "outputs": [],
   "source": []
  }
 ],
 "metadata": {
  "kernelspec": {
   "display_name": "Python 3 (ipykernel)",
   "language": "python",
   "name": "python3"
  },
  "language_info": {
   "codemirror_mode": {
    "name": "ipython",
    "version": 3
   },
   "file_extension": ".py",
   "mimetype": "text/x-python",
   "name": "python",
   "nbconvert_exporter": "python",
   "pygments_lexer": "ipython3",
   "version": "3.11.7"
  }
 },
 "nbformat": 4,
 "nbformat_minor": 5
}
